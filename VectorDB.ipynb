{
 "cells": [
  {
   "cell_type": "markdown",
   "metadata": {},
   "source": [
    "## Load Embedding Model and Embed the text"
   ]
  },
  {
   "cell_type": "code",
   "execution_count": 5,
   "metadata": {},
   "outputs": [
    {
     "name": "stderr",
     "output_type": "stream",
     "text": [
      "c:\\Users\\mkkha\\Downloads\\projects\\embed\\env\\Lib\\site-packages\\tqdm\\auto.py:21: TqdmWarning: IProgress not found. Please update jupyter and ipywidgets. See https://ipywidgets.readthedocs.io/en/stable/user_install.html\n",
      "  from .autonotebook import tqdm as notebook_tqdm\n",
      "Fetching 30 files:   0%|          | 0/30 [00:00<?, ?it/s]"
     ]
    }
   ],
   "source": [
    "from FlagEmbedding import BGEM3FlagModel\n",
    "\n",
    "model = BGEM3FlagModel('BAAI/bge-m3',  \n",
    "                       use_fp16=True)\n",
    "\n",
    "sentence=[\"What is BGE M3?\", \"Defination of BM25\"]\n",
    "\n",
    "embedding = model.encode(sentence)['dense_vecs']\n"
   ]
  },
  {
   "cell_type": "markdown",
   "metadata": {},
   "source": [
    "## Load Chromadb client and create VectorDb collection"
   ]
  },
  {
   "cell_type": "code",
   "execution_count": 18,
   "metadata": {},
   "outputs": [
    {
     "name": "stdout",
     "output_type": "stream",
     "text": [
      "deleting vector db if exists\n"
     ]
    }
   ],
   "source": [
    "import chromadb\n",
    "\n",
    "\n",
    "client = chromadb.PersistentClient(path=\"./VectorDb\")\n",
    "\n",
    "vector_db_name = \"vector_db_name\"\n",
    "\n",
    "try:\n",
    "    client.delete_collection(name=vector_db_name)\n",
    "    print(f\"deleting vector db if exists\")\n",
    "except:\n",
    "    print(f\"{vector_db_name} doesn't exists\")\n",
    "\n",
    "collection = client.create_collection(\n",
    "      name=vector_db_name,\n",
    "      metadata={\"hnsw:space\": \"cosine\"},\n",
    "  )"
   ]
  },
  {
   "cell_type": "markdown",
   "metadata": {},
   "source": [
    "## Add your data to db\n",
    "\n",
    "If you don't want to embed, you can leave as text and it will use default embedding model from ChromaDb"
   ]
  },
  {
   "cell_type": "code",
   "execution_count": 19,
   "metadata": {},
   "outputs": [],
   "source": [
    "## Add element to the Vector Db\n",
    "for i in range(len(sentence)):\n",
    "    text_topic_name=str(i)\n",
    "    collection.add(\n",
    "            # embeddings = embedding[i],\n",
    "            documents=sentence[i],\n",
    "            metadatas=[{\"topic\": text_topic_name}],\n",
    "            ids=[f\"{text_topic_name}__id\"],\n",
    "        )"
   ]
  },
  {
   "cell_type": "markdown",
   "metadata": {},
   "source": [
    "## Query your database\n",
    "\n",
    "Passing just the text will use default embedding model from Chromadb"
   ]
  },
  {
   "cell_type": "code",
   "execution_count": 21,
   "metadata": {},
   "outputs": [],
   "source": [
    "results = collection.query(\n",
    "    query_embeddings=[[1,2,34,3]],\n",
    "    n_results=2,\n",
    ")\n",
    "print(results)"
   ]
  },
  {
   "cell_type": "code",
   "execution_count": 22,
   "metadata": {},
   "outputs": [
    {
     "name": "stderr",
     "output_type": "stream",
     "text": [
      "Number of requested results 2 is greater than number of elements in index 1, updating n_results = 1\n"
     ]
    },
    {
     "name": "stdout",
     "output_type": "stream",
     "text": [
      "{'ids': [['0__id']], 'distances': [[0.8066927626105782]], 'metadatas': [[{'topic': '0'}]], 'embeddings': None, 'documents': [['hi']], 'uris': None, 'data': None}\n"
     ]
    }
   ],
   "source": [
    "results = collection.query(\n",
    "    query_texts=[\"what is this?\"],\n",
    "    n_results=2,\n",
    ")\n",
    "print(results)"
   ]
  },
  {
   "cell_type": "markdown",
   "metadata": {},
   "source": [
    "## Host your chroma Db as server\n",
    "\n",
    "In terminal run this:\n",
    "`chroma run --path ./VectorDb --port 5000`\n",
    "\n",
    "This will start your vector db server at local host: 5000"
   ]
  },
  {
   "cell_type": "markdown",
   "metadata": {},
   "source": [
    "## Query from hosted chroma client"
   ]
  },
  {
   "cell_type": "code",
   "execution_count": 15,
   "metadata": {},
   "outputs": [],
   "source": [
    "import chromadb\n",
    "chroma_client = chromadb.HttpClient(host='localhost', port=8000)\n",
    "collection_http = client.get_collection(name=vector_db_name) "
   ]
  },
  {
   "cell_type": "code",
   "execution_count": 16,
   "metadata": {},
   "outputs": [
    {
     "name": "stderr",
     "output_type": "stream",
     "text": [
      "Number of requested results 2 is greater than number of elements in index 1, updating n_results = 1\n"
     ]
    },
    {
     "name": "stdout",
     "output_type": "stream",
     "text": [
      "{'ids': [['0__id']], 'distances': [[0.0004216299616589536]], 'metadatas': [[{'topic': '0'}]], 'embeddings': None, 'documents': [['hi']], 'uris': None, 'data': None}\n"
     ]
    }
   ],
   "source": [
    "results = collection_http.query(\n",
    "    query_embeddings=[[1,2,34,3]],\n",
    "    n_results=2,\n",
    ")\n",
    "print(results)"
   ]
  },
  {
   "cell_type": "code",
   "execution_count": null,
   "metadata": {},
   "outputs": [],
   "source": []
  }
 ],
 "metadata": {
  "kernelspec": {
   "display_name": "Python 3",
   "language": "python",
   "name": "python3"
  },
  "language_info": {
   "codemirror_mode": {
    "name": "ipython",
    "version": 3
   },
   "file_extension": ".py",
   "mimetype": "text/x-python",
   "name": "python",
   "nbconvert_exporter": "python",
   "pygments_lexer": "ipython3",
   "version": "3.11.4"
  }
 },
 "nbformat": 4,
 "nbformat_minor": 2
}
